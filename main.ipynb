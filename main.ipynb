{
 "cells": [
  {
   "cell_type": "code",
   "execution_count": 35,
   "metadata": {},
   "outputs": [],
   "source": [
    "import pandas as pd\n",
    "import networkx \n",
    "import matplotlib\n",
    "import math\n",
    "\n",
    "pd.set_option('display.max_columns', None)  # Show all columns\n",
    "pd.set_option('display.width', 1000)  # Set display width to avoid truncating\n",
    "pd.set_option('display.max_colwidth', None)  # Set max column width to avoid truncating text"
   ]
  },
  {
   "cell_type": "code",
   "execution_count": 36,
   "metadata": {},
   "outputs": [
    {
     "name": "stdout",
     "output_type": "stream",
     "text": [
      "This is a Flight Path Optimization Algorithm\n",
      "Program and Algorithm written by: Kushagra Bharti\n"
     ]
    }
   ],
   "source": [
    "print(\"This is a Flight Path Optimization Algorithm\")\n",
    "print(\"Program and Algorithm written by: Kushagra Bharti\")"
   ]
  },
  {
   "cell_type": "code",
   "execution_count": 37,
   "metadata": {},
   "outputs": [],
   "source": [
    "import pandas as pd\n",
    "\n",
    "airports = pd.read_csv('airports.dat', header=None)\n",
    "airports.columns = ['Airport ID', 'Name', 'City', 'Country', 'IATA/FAA', 'ICAO', 'Latitude', 'Longitude', 'Altitude', 'Timezone', 'DST', 'Tz database time zone', 'Type', 'Source']"
   ]
  },
  {
   "cell_type": "code",
   "execution_count": 38,
   "metadata": {},
   "outputs": [
    {
     "name": "stdout",
     "output_type": "stream",
     "text": [
      "   Airport ID                                         Name          City           Country IATA/FAA  ICAO  Latitude   Longitude  Altitude Timezone DST Tz database time zone     Type       Source\n",
      "0           1                               Goroka Airport        Goroka  Papua New Guinea      GKA  AYGA -6.081690  145.391998      5282       10   U  Pacific/Port_Moresby  airport  OurAirports\n",
      "1           2                               Madang Airport        Madang  Papua New Guinea      MAG  AYMD -5.207080  145.789001        20       10   U  Pacific/Port_Moresby  airport  OurAirports\n",
      "2           3                 Mount Hagen Kagamuga Airport   Mount Hagen  Papua New Guinea      HGU  AYMH -5.826790  144.296005      5388       10   U  Pacific/Port_Moresby  airport  OurAirports\n",
      "3           4                               Nadzab Airport        Nadzab  Papua New Guinea      LAE  AYNZ -6.569803  146.725977       239       10   U  Pacific/Port_Moresby  airport  OurAirports\n",
      "4           5  Port Moresby Jacksons International Airport  Port Moresby  Papua New Guinea      POM  AYPY -9.443380  147.220001       146       10   U  Pacific/Port_Moresby  airport  OurAirports\n"
     ]
    }
   ],
   "source": [
    "print(airports.head())"
   ]
  },
  {
   "cell_type": "code",
   "execution_count": 39,
   "metadata": {},
   "outputs": [],
   "source": [
    "# Let's start with hard-coded data just for ease & let's start with 3 airports\n",
    "\n",
    "airportsHard = pd.DataFrame({\n",
    "    'Name': ['John F Kennedy Intl', 'Dallas Fort Worth Intl', 'San Francisco Intl'],\n",
    "    'City': ['New York', 'Dallas', 'San Francisco'],\n",
    "    'Country': ['United States', 'United States', 'United States'],\n",
    "    'IATA/FAA': ['JFK', 'DFW', 'SFO'],\n",
    "    'ICAO': ['KJFK', 'KDFW', 'KSFO'],\n",
    "    'Latitude': [40.639801, 32.896801, 37.618999],\n",
    "    'Longitude': [-73.7789, -97.038002, -122.375], \n",
    "    'Altitude': [13, 607, 13], \n",
    "    'Timezone': [-5, -6, -8], \n",
    "})"
   ]
  },
  {
   "cell_type": "code",
   "execution_count": 40,
   "metadata": {},
   "outputs": [
    {
     "name": "stdout",
     "output_type": "stream",
     "text": [
      "                     Name           City        Country IATA/FAA  ICAO   Latitude   Longitude  Altitude  Timezone\n",
      "0     John F Kennedy Intl       New York  United States      JFK  KJFK  40.639801  -73.778900        13        -5\n",
      "1  Dallas Fort Worth Intl         Dallas  United States      DFW  KDFW  32.896801  -97.038002       607        -6\n",
      "2      San Francisco Intl  San Francisco  United States      SFO  KSFO  37.618999 -122.375000        13        -8\n"
     ]
    }
   ],
   "source": [
    "print(airportsHard)"
   ]
  },
  {
   "cell_type": "code",
   "execution_count": 59,
   "metadata": {},
   "outputs": [],
   "source": [
    "# To calculate the distance between airports, we will use the Haversine forumla\n",
    "\n",
    "def haversine(lat1, lon1, lat2, lon2):\n",
    "    \n",
    "    distance = 0\n",
    "    radius = 6371 # Earth radius in KM\n",
    "\n",
    "    lat1, lon1, lat2, lon2 = map(math.radians, [lat1, lon1, lat2, lon2])\n",
    "\n",
    "    #print(lat1, lon1, lat2, lon2)\n",
    "\n",
    "    dlat = lat2 - lat1\n",
    "    dlon = lon2 - lon1\n",
    "\n",
    "    #print(dlat, dlon)\n",
    "\n",
    "    a = ((math.sin(dlat/2))**2) + (math.cos(lat1) * math.cos(lat2) * ((math.sin(dlon/2))**2))\n",
    "\n",
    "    distance = (2*radius)*(math.asin(math.sqrt(a)))\n",
    "\n",
    "    return distance"
   ]
  },
  {
   "cell_type": "code",
   "execution_count": 60,
   "metadata": {},
   "outputs": [
    {
     "data": {
      "text/plain": [
       "2234.8961433849145"
      ]
     },
     "execution_count": 60,
     "metadata": {},
     "output_type": "execute_result"
    }
   ],
   "source": [
    "# Sample run to find distance between JFK and DFW (should be around 2234.896013)\n",
    "\n",
    "haversine(40.639801, -73.778900, 32.896801, -97.038002)"
   ]
  },
  {
   "cell_type": "code",
   "execution_count": null,
   "metadata": {},
   "outputs": [],
   "source": []
  }
 ],
 "metadata": {
  "kernelspec": {
   "display_name": "base",
   "language": "python",
   "name": "python3"
  },
  "language_info": {
   "codemirror_mode": {
    "name": "ipython",
    "version": 3
   },
   "file_extension": ".py",
   "mimetype": "text/x-python",
   "name": "python",
   "nbconvert_exporter": "python",
   "pygments_lexer": "ipython3",
   "version": "3.12.4"
  }
 },
 "nbformat": 4,
 "nbformat_minor": 2
}
